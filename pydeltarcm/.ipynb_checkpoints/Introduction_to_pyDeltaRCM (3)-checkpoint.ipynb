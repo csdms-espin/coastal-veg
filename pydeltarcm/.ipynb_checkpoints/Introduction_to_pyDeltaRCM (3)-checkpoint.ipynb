{
 "cells": [
  {
   "cell_type": "markdown",
   "metadata": {
    "id": "gvV0BUoqux8J"
   },
   "source": [
    "# Introduction to *pyDeltaRCM*"
   ]
  },
  {
   "cell_type": "markdown",
   "metadata": {
    "id": "GCAdZEkXfUZX"
   },
   "source": [
    "*pyDeltaRCM* is a computationally efficient, free and open source, and easy-to-customize numerical delta model based on the original DeltaRCM model design ([MATLAB deltaRCM model](https://csdms.colorado.edu/wiki/Model:DeltaRCM) by Man Liang; [Liang et al., 2015](https://doi.org/10.5194/esurf-3-67-2015)). *pyDeltaRCM* delivers improved model stability and capabilities, infrastructure to support exploration with minimal boilerplate code, and establishes an approach to extending model capabilities that ensures reproducible and comparable studies.\n",
    "\n",
    "<figure>\n",
    "<img src=\"https://camo.githubusercontent.com/ba2473d4bf88934403a15a7bbba476b37a1b36be16d224384fb6182dca29c844/68747470733a2f2f64656c746172636d2e6f72672f707944656c746152434d2f5f696d616765732f636f7665722e706e67\" width=\"500\"/>\n",
    "<figcaption> Figure:  Weighted random walks for 20 water parcels </figcaption>\n",
    "</figure>\n",
    "\n",
    "<br>\n",
    "\n",
    "## Aims of this notebook\n",
    "\n",
    "In this notebook, we will attempt to:\n",
    "\n",
    "- Showcase some examples of what can be done with the model\n",
    "- Provide an overview of how the *pyDeltaRCM* model is structured\n",
    "- Walk through the use and configuration of standard model parameters\n",
    "- Run a \"mini\" version of the model\n",
    "- Load some \"full-size\" model results and examine them\n",
    "\n",
    "<br>\n",
    "\n",
    "### Useful Links and Resources\n",
    "\n",
    "[Documentation](https://deltarcm.org/pyDeltaRCM/index.html) for the *pyDeltaRCM* model is available online and includes instructions on how to [install the model locally](https://deltarcm.org/pyDeltaRCM/meta/installing.html), [a user guide](https://deltarcm.org/pyDeltaRCM/guides/user_guide.html), [example scripts](https://deltarcm.org/pyDeltaRCM/examples/index.html), and much more.\n",
    "\n",
    "<br>\n",
    "\n",
    "More generally, for information on the Python programming language we suggest you explore their [documentation](https://www.python.org/doc/).\n",
    "To manage local programming environments and package installations we recommend checking out [Anaconda](https://www.anaconda.com/).\n",
    "For good scientific programming practicies, we encourage you to check out some of the material CSDMS has put out, including the \"Level Up!\" [webinar](https://csdms.colorado.edu/wiki/Webinars) series.\n",
    "\n"
   ]
  },
  {
   "cell_type": "markdown",
   "metadata": {
    "id": "nFg06XIKuuqV"
   },
   "source": [
    "# The DeltaRCM Modeling Framework"
   ]
  },
  {
   "cell_type": "markdown",
   "metadata": {
    "id": "DkGCl3smkPwG"
   },
   "source": [
    "\n",
    "\n",
    "The original DeltaRCM model was conceived as a \"reduced-complexity\" model capable of simulating the growth and evolution of a river delta landscape.\n",
    "Simulation of the movement of water and sediment is discretized into \"parcels\" of fluid which move through the domain via a weighted random walk.\n",
    "As these parcels walk about, they modify the flow fields or topography according to empirical rules, derived from physical relationships known to govern hydrodynamics and sediment transport.\n",
    "For more details on the random walks, we refer you to the [original DeltaRCM paper](https://doi.org/10.5194/esurf-3-67-2015).\n",
    "\n",
    "<br>\n",
    "\n",
    "<figure>\n",
    "<img src=\"https://raw.githubusercontent.com/DeltaRCM/pyDeltaRCM/develop/assets/private/liang_2015_fig1fig2.png\" width=\"900\"/>\n",
    "<figcaption> NOTE: Figures are from Liang et al., 2015a, ESurf </figcaption>\n",
    "</figure>\n",
    "\n",
    "<br>\n",
    "\n"
   ]
  },
  {
   "cell_type": "markdown",
   "metadata": {
    "id": "iGRq8rk-ulX2"
   },
   "source": [
    "# What can the model do?"
   ]
  },
  {
   "cell_type": "markdown",
   "metadata": {
    "id": "qbmwI4Kneub5"
   },
   "source": [
    "To help motivate our use of this model. Let's have a look at what it actually can do.\n",
    "\n",
    "<br>\n",
    "\n",
    "Simulate the effect different sediment compositions (here as fraction of sand $f_{sand}$) have on deltaic evolution:\n",
    "<figure>\n",
    "<img src=\"https://utexas.box.com/shared/static/sl0rue6m7nef8zd1rldsw0rebcawn10b.gif\" width=\"900\"/>\n",
    "</figure>\n",
    "\n",
    "<br>\n",
    "\n",
    "Simulate delta evolution as sea levels rise:\n",
    "<figure>\n",
    "<img src=\"https://utexas.box.com/shared/static/jtab349qfoytm4osmp2pne3vravcpafg.gif\" width=\"600\"/>\n",
    "</figure>\n",
    "\n",
    "<figure>\n",
    "<img src=\"https://utexas.box.com/shared/static/3d1li4t5k4utv4tpzryfd4hdalhckx8y.gif\" width=\"600\"/>\n",
    "</figure>\n",
    "\n",
    "<br>\n",
    "\n",
    "Simulate the effects of vegetation ([Lauzon et al 2018](https://doi.org/10.1029/2018GL079405)):\n",
    "<figure>\n",
    "<img src=\"https://utexas.box.com/shared/static/atox177rjdb6dp9yf22e3bsawvissc72.gif\" width=\"900\"/>\n",
    "</figure>\n",
    "\n",
    "<br>\n",
    "\n",
    "Simulate the effects of ice ([Lauzon et al 2019](https://doi.org/10.1029/2019GL082792)):\n",
    "<figure>\n",
    "<img src=\"https://utexas.box.com/shared/static/b1nxqzka3opmvr6po3cxb3tnbjun80c2.gif\" width=\"900\"/>\n",
    "</figure>\n",
    "\n",
    "<br>\n",
    "\n",
    "Simulate the effects of permafrost ([Lauzon et al 2019](https://doi.org/10.1029/2019GL082792)):\n",
    "<figure>\n",
    "<img src=\"https://utexas.box.com/shared/static/3qup12irghfgwogiid7897qz02nd3jav.gif\" width=\"900\"/>\n",
    "</figure>\n",
    "\n",
    "<br>"
   ]
  },
  {
   "cell_type": "markdown",
   "metadata": {
    "id": "5XLlThVku79G"
   },
   "source": [
    "# Install *pyDeltaRCM*"
   ]
  },
  {
   "cell_type": "markdown",
   "metadata": {
    "id": "tkrS4R8DfjgL"
   },
   "source": [
    "We will use `pip` to install the package into the Colab environment.\n",
    "\n",
    "To use *pyDeltaRCM* on your local machine you can do the same `pip` installation. If you wish to join our developer community, we encourage you to download the full repository and install the package from source, developer installation instructions are available [here](https://deltarcm.org/pyDeltaRCM/meta/installing.html#developer-installation)."
   ]
  },
  {
   "cell_type": "code",
   "execution_count": 1,
   "metadata": {
    "id": "-7j1Laswe8La"
   },
   "outputs": [],
   "source": [
    "%%capture\n",
    "\n",
    "!pip install pydeltarcm\n",
    "!pip install xarray"
   ]
  },
  {
   "cell_type": "code",
   "execution_count": 1,
   "metadata": {
    "id": "RR-auFXmt_OP"
   },
   "outputs": [],
   "source": [
    "import numpy as np\n",
    "import matplotlib.pyplot as plt"
   ]
  },
  {
   "cell_type": "markdown",
   "metadata": {
    "id": "tpSbaIIHvEM0"
   },
   "source": [
    "# Running the model in 5 lines of code"
   ]
  },
  {
   "cell_type": "markdown",
   "metadata": {
    "id": "wMqw1cAYflEi"
   },
   "source": [
    "The *pyDeltaRCM* model operations are split into many different \"methods\" (i.e., functions) that represent a logical step in the model routine.\n",
    "We've made an effort to name these methods descriptively, so that the high level functionality of each method is immediately clear, but all of the methods are also individually documented (e.g., [water methods are documented here](https://deltarcm.org/pyDeltaRCM/reference/water_tools/index.html#public-api-methods-attached-to-model)).\n",
    "\n",
    "---\n",
    "* `init_domain`\n",
    "* `init_output_infrastructure`\n",
    "* `update`\n",
    "  * `solve_water_and_sediment_timestep`\n",
    "    * `route_water`\n",
    "      * `init_water_iteration`\n",
    "      * `run_water_iteration`\n",
    "      * `compute_free_surface`\n",
    "      * `finalize_water_iteration`\n",
    "    * `route_sediment`  \n",
    "  * `apply_subsidence`\n",
    "  * `finalize_timestep`\n",
    "  * `output_data`\n",
    "  * `output_checkpoint`\n",
    "* `finalize`\n",
    "---\n",
    "\n",
    "\n",
    "\n",
    "_pyDeltaRCM_ is built with an object-oriented interface. So, in the most basic use case you \"run the model\" by 1) initializing the model, and 2) updating the model.\n",
    "\n",
    "Let's start by importing the package, and then creating a `DeltaModel`."
   ]
  },
  {
   "cell_type": "code",
   "execution_count": 2,
   "metadata": {
    "colab": {
     "base_uri": "https://localhost:8080/"
    },
    "id": "Y_lamurCffZk",
    "outputId": "16096e39-f2ce-4291-9dd3-efe836dbec01"
   },
   "outputs": [],
   "source": [
    "import pyDeltaRCM"
   ]
  },
  {
   "cell_type": "code",
   "execution_count": 3,
   "metadata": {},
   "outputs": [],
   "source": [
    "from VegetationModel import VegetationModel"
   ]
  },
  {
   "cell_type": "code",
   "execution_count": null,
   "metadata": {},
   "outputs": [],
   "source": [
    "from VegetationModel import VegetationModel\n",
    "if __name__ == '__main__':\n",
    "    # Create an instance of VegetationModel\n",
    "    delta = VegetationModel(\n",
    "        input_file='./vegetation.yaml',\n",
    "        out_dir='./vegetation_output',\n",
    "        save_checkpoint=True,\n",
    "        save_dt=86400,\n",
    "        clobber_netcdf=True,\n",
    "        vegetation=True\n",
    "    )"
   ]
  },
  {
   "cell_type": "markdown",
   "metadata": {
    "id": "XhfSxZ9bjuIN"
   },
   "source": [
    "Instantiating the `DeltaModel()` without any arguments will use a set of [default parameters](https://deltarcm.org/pyDeltaRCM/reference/model/yaml_defaults.html) to configure the model run. The default options are a reasonable set for exploring some controls of the model, and would work perfectly well for a simple demonstration here.\n",
    "\n",
    "\n",
    "\n",
    "> [Find the full `DeltaModel` object documentation here](https://deltarcm.org/pyDeltaRCM/_autosummary/pyDeltaRCM.model.DeltaModel.html#pyDeltaRCM.model.DeltaModel)\n",
    "\n",
    "<br>\n",
    "\n",
    "---\n",
    "\n",
    "<br>\n",
    "\n",
    "The delta model is run forward with a call to the `update()` method. So, we simply create a for loop, and call the update function, and then wrap everything up with a call to `finalize()` the model:"
   ]
  },
  {
   "cell_type": "code",
   "execution_count": null,
   "metadata": {
    "colab": {
     "base_uri": "https://localhost:8080/"
    },
    "id": "-y3NZj2NlnwZ",
    "outputId": "cb8ca274-2b5a-4d5d-bcbd-3bbe5da13388",
    "scrolled": true
   },
   "outputs": [],
   "source": [
    "# note: this cell will take ~1 minute to run\n",
    "\n",
    "for _ in range(0, 500):\n",
    "    delta.update()\n",
    "\n",
    "delta.finalize()"
   ]
  },
  {
   "cell_type": "markdown",
   "metadata": {
    "id": "FMucLZAil3KP"
   },
   "source": [
    "That’s it! You ran the *pyDeltaRCM* model for five timesteps, with just five lines of code.\n",
    "\n",
    "There's not a lot that has happened over these five timesteps though.\n",
    "\n",
    "\n"
   ]
  },
  {
   "cell_type": "code",
   "execution_count": null,
   "metadata": {
    "colab": {
     "base_uri": "https://localhost:8080/",
     "height": 312
    },
    "id": "gyPBVosXmM1a",
    "outputId": "8ff6861a-10d8-4f4c-8286-734ce657caba"
   },
   "outputs": [],
   "source": [
    "import matplotlib.pyplot as plt\n",
    "\n",
    "fig, ax = plt.subplots()\n",
    "ax.imshow(delta.bed_elevation)\n",
    "plt.show()"
   ]
  },
  {
   "cell_type": "markdown",
   "metadata": {
    "id": "yHRenCc1mM-3"
   },
   "source": [
    " While we have given considerable effort to optimize *pyDeltaRCM*, the model is not \"real time\" fast. So below, we are going to change some settings from the default values for today's tutorial, so that you will be able to see a delta evolve in real time."
   ]
  },
  {
   "cell_type": "markdown",
   "metadata": {
    "id": "HFMJk9r9vHAe"
   },
   "source": [
    "# Inspecting the `DeltaModel` object and Simulating a Mini-Delta"
   ]
  },
  {
   "cell_type": "markdown",
   "metadata": {
    "id": "DPk2VOSelUjg"
   },
   "source": [
    "We saw the bed elevation displayed above, but internally this variable is normally referred to as `eta`. Some other important variables names:\n",
    "\n",
    "* `eta` : bed elevation (m)\n",
    "* `depth` : flow depth (m)\n",
    "* `stage` : water surface elevation (m)\n",
    "* `uw` : along-streamline flow velocity (m/s)\n",
    "* `qs` : sediment transport volume (m3/s)\n",
    "\n",
    "Let's see what a few of these look like:"
   ]
  },
  {
   "cell_type": "code",
   "execution_count": null,
   "metadata": {
    "colab": {
     "base_uri": "https://localhost:8080/",
     "height": 275
    },
    "id": "WRZAKAsKlnrS",
    "outputId": "79d6d195-eb14-4ad6-b70e-54ebf75a1969"
   },
   "outputs": [],
   "source": [
    "fig, ax = plt.subplots()\n",
    "im = ax.imshow(delta.eta)  # change this line to view different variables\n",
    "plt.colorbar(im, ax=ax, shrink=0.6)\n",
    "plt.show()"
   ]
  },
  {
   "cell_type": "markdown",
   "metadata": {
    "id": "wV9WogNdC8g4"
   },
   "source": [
    "To create a smaller delta model that we can see evolve in real time, we will change a number of configuration parameters. We do this by simply passing a keyword and value pair to the model during instantiation.\n",
    "\n",
    "Any values that are not specified during the model instantiation will take  default values ([default `pyDeltaRCM` model parameters](https://deltarcm.org/pyDeltaRCM/reference/model/yaml_defaults.html)). The input parameter descriptions can be found in the **Attributes** section of the `DeltaModel` documentation [here](https://deltarcm.org/pyDeltaRCM/_autosummary/pyDeltaRCM.model.DeltaModel.html#pydeltarcm-model-deltamodel)."
   ]
  },
  {
   "cell_type": "code",
   "execution_count": null,
   "metadata": {
    "colab": {
     "base_uri": "https://localhost:8080/",
     "height": 1000
    },
    "id": "nU0wr9n8r4bh",
    "outputId": "cb80595f-4cb3-44f4-d860-e25ed89d6764"
   },
   "outputs": [],
   "source": [
    "# create a smaller delta model (default values in [brackets])\n",
    "delta = pyDeltaRCM.DeltaModel(\n",
    "    dx=200,                # grid spacing [50 m]\n",
    "    Np_water=200,          # input water parcels [2000]\n",
    "    Np_sed=50,             # input sediment parcels [2000]\n",
    "    C0_percent=0.2,        # input sediment concentation [0.1 %]\n",
    "    save_eta_grids=True,   # save the topography data [False]\n",
    "    save_dt=0,             # save interval of 0 seconds [86400]\n",
    "    clobber_netcdf=True,   # over-write any existing output files [False]\n",
    "    )\n",
    "\n",
    "# show the initial condition\n",
    "fig, ax = plt.subplots()\n",
    "ax.imshow(delta.eta)\n",
    "plt.show()\n"
   ]
  },
  {
   "cell_type": "code",
   "execution_count": null,
   "metadata": {},
   "outputs": [],
   "source": [
    "VM = VegetationModel(\n",
    "    dx=200,                # grid spacing [50 m]\n",
    "    Np_water=200,          # input water parcels [2000]\n",
    "    Np_sed=50,             # input sediment parcels [2000]\n",
    "    C0_percent=0.2,        # input sediment concentation [0.1 %]\n",
    "    save_eta_grids=True,   # save the topography data [False]\n",
    "    save_dt=0,             # save interval of 0 seconds [86400]\n",
    "    clobber_netcdf=True,   # over-write any existing output files [False]\n",
    "    \n",
    "    )"
   ]
  },
  {
   "cell_type": "code",
   "execution_count": 6,
   "metadata": {},
   "outputs": [
    {
     "ename": "TypeError",
     "evalue": "VegetationModel.__init__() missing 1 required positional argument: 'input_file'",
     "output_type": "error",
     "traceback": [
      "\u001b[0;31m---------------------------------------------------------------------------\u001b[0m",
      "\u001b[0;31mTypeError\u001b[0m                                 Traceback (most recent call last)",
      "Cell \u001b[0;32mIn[6], line 1\u001b[0m\n\u001b[0;32m----> 1\u001b[0m VM \u001b[38;5;241m=\u001b[39m \u001b[43mVegetationModel\u001b[49m\u001b[43m(\u001b[49m\u001b[43mLength\u001b[49m\u001b[38;5;241;43m=\u001b[39;49m\u001b[43m \u001b[49m\u001b[38;5;241;43m3000\u001b[39;49m\u001b[43m,\u001b[49m\n\u001b[1;32m      2\u001b[0m \u001b[43m    \u001b[49m\u001b[43mWidth\u001b[49m\u001b[38;5;241;43m=\u001b[39;49m\u001b[43m \u001b[49m\u001b[38;5;241;43m6000\u001b[39;49m\u001b[43m,\u001b[49m\n\u001b[1;32m      3\u001b[0m \u001b[43m    \u001b[49m\u001b[43mdx\u001b[49m\u001b[38;5;241;43m=\u001b[39;49m\u001b[43m \u001b[49m\u001b[38;5;241;43m50\u001b[39;49m\u001b[43m,\u001b[49m\n\u001b[1;32m      4\u001b[0m \u001b[43m    \u001b[49m\u001b[43mverbose\u001b[49m\u001b[38;5;241;43m=\u001b[39;49m\u001b[43m \u001b[49m\u001b[38;5;241;43m1\u001b[39;49m\u001b[43m,\u001b[49m\n\u001b[1;32m      5\u001b[0m \u001b[43m    \u001b[49m\u001b[43mN0_meters\u001b[49m\u001b[38;5;241;43m=\u001b[39;49m\u001b[43m \u001b[49m\u001b[38;5;241;43m150\u001b[39;49m\u001b[43m,\u001b[49m\n\u001b[1;32m      6\u001b[0m \u001b[43m    \u001b[49m\u001b[43mL0_meters\u001b[49m\u001b[38;5;241;43m=\u001b[39;49m\u001b[43m \u001b[49m\u001b[38;5;241;43m150\u001b[39;49m\u001b[43m,\u001b[49m\n\u001b[1;32m      7\u001b[0m \u001b[43m    \u001b[49m\u001b[43mNp_water\u001b[49m\u001b[38;5;241;43m=\u001b[39;49m\u001b[43m \u001b[49m\u001b[38;5;241;43m500\u001b[39;49m\u001b[43m,\u001b[49m\n\u001b[1;32m      8\u001b[0m \u001b[43m    \u001b[49m\u001b[43mNp_sed\u001b[49m\u001b[38;5;241;43m=\u001b[39;49m\u001b[43m \u001b[49m\u001b[38;5;241;43m500\u001b[39;49m\u001b[43m,\u001b[49m\n\u001b[1;32m      9\u001b[0m \u001b[43m    \u001b[49m\u001b[43mu0\u001b[49m\u001b[38;5;241;43m=\u001b[39;49m\u001b[43m \u001b[49m\u001b[38;5;241;43m1.1\u001b[39;49m\u001b[43m,\u001b[49m\n\u001b[1;32m     10\u001b[0m \u001b[43m    \u001b[49m\u001b[43mh0\u001b[49m\u001b[38;5;241;43m=\u001b[39;49m\u001b[43m \u001b[49m\u001b[38;5;241;43m4\u001b[39;49m\u001b[43m,\u001b[49m\n\u001b[1;32m     11\u001b[0m \u001b[43m    \u001b[49m\u001b[43mitermax\u001b[49m\u001b[38;5;241;43m=\u001b[39;49m\u001b[43m \u001b[49m\u001b[38;5;241;43m2\u001b[39;49m\u001b[43m,\u001b[49m\n\u001b[1;32m     12\u001b[0m \u001b[43m    \u001b[49m\u001b[43msave_eta_grids\u001b[49m\u001b[38;5;241;43m=\u001b[39;49m\u001b[43m \u001b[49m\u001b[38;5;28;43;01mTrue\u001b[39;49;00m\u001b[43m,\u001b[49m\n\u001b[1;32m     13\u001b[0m \u001b[43m    \u001b[49m\u001b[43msave_eta_figs\u001b[49m\u001b[38;5;241;43m=\u001b[39;49m\u001b[43m \u001b[49m\u001b[38;5;28;43;01mTrue\u001b[39;49;00m\u001b[43m,\u001b[49m\n\u001b[1;32m     14\u001b[0m \u001b[43m    \u001b[49m\u001b[43msave_velocity_grids\u001b[49m\u001b[38;5;241;43m=\u001b[39;49m\u001b[43m \u001b[49m\u001b[38;5;28;43;01mTrue\u001b[39;49;00m\u001b[43m,\u001b[49m\n\u001b[1;32m     15\u001b[0m \u001b[43m    \u001b[49m\u001b[43msave_sandfrac_grids\u001b[49m\u001b[38;5;241;43m=\u001b[39;49m\u001b[43m \u001b[49m\u001b[38;5;28;43;01mTrue\u001b[39;49;00m\u001b[43m,\u001b[49m\n\u001b[1;32m     16\u001b[0m \u001b[43m    \u001b[49m\u001b[43msave_checkpoint\u001b[49m\u001b[38;5;241;43m=\u001b[39;49m\u001b[38;5;28;43;01mTrue\u001b[39;49;00m\u001b[43m,\u001b[49m\n\u001b[1;32m     17\u001b[0m \u001b[43m    \u001b[49m\u001b[43msave_dt\u001b[49m\u001b[38;5;241;43m=\u001b[39;49m\u001b[38;5;241;43m86400\u001b[39;49m\u001b[43m,\u001b[49m\n\u001b[1;32m     18\u001b[0m \u001b[43m    \u001b[49m\u001b[43mclobber_netcdf\u001b[49m\u001b[38;5;241;43m=\u001b[39;49m\u001b[38;5;28;43;01mTrue\u001b[39;49;00m\u001b[43m,\u001b[49m\n\u001b[1;32m     19\u001b[0m \u001b[43m    \u001b[49m\u001b[43mvegetation\u001b[49m\u001b[38;5;241;43m=\u001b[39;49m\u001b[38;5;28;43;01mTrue\u001b[39;49;00m\u001b[43m,\u001b[49m\n\u001b[1;32m     20\u001b[0m \n\u001b[1;32m     21\u001b[0m \u001b[43m)\u001b[49m\n\u001b[1;32m     22\u001b[0m \u001b[38;5;66;03m# VM.subclass_parameters['\u001b[39;00m\n\u001b[1;32m     23\u001b[0m \n\u001b[1;32m     24\u001b[0m \u001b[38;5;66;03m# But will the Vegetation model not run before we are able to change the 'p_veg_K' from the subclass parameters?\u001b[39;00m\n\u001b[0;32m   (...)\u001b[0m\n\u001b[1;32m     27\u001b[0m \n\u001b[1;32m     28\u001b[0m \u001b[38;5;66;03m# run model loop\u001b[39;00m\n",
      "\u001b[0;31mTypeError\u001b[0m: VegetationModel.__init__() missing 1 required positional argument: 'input_file'"
     ]
    }
   ],
   "source": [
    "VM = VegetationModel(Length= 3000,\n",
    "    Width= 6000,\n",
    "    dx= 50,\n",
    "    verbose= 1,\n",
    "    N0_meters= 150,\n",
    "    L0_meters= 150,\n",
    "    Np_water= 500,\n",
    "    Np_sed= 500,\n",
    "    u0= 1.1,\n",
    "    h0= 4,\n",
    "    itermax= 2,\n",
    "    save_eta_grids= True,\n",
    "    save_eta_figs= True,\n",
    "    save_velocity_grids= True,\n",
    "    save_sandfrac_grids= True,\n",
    "    save_checkpoint=True,\n",
    "    save_dt=86400,\n",
    "    clobber_netcdf=True,\n",
    "    vegetation=True,\n",
    "\n",
    ")\n",
    "# VM.subclass_parameters['\n",
    "\n",
    "# But will the Vegetation model not run before we are able to change the 'p_veg_K' from the subclass parameters?\n",
    "\n",
    "# change one parameter\n",
    "\n",
    "# run model loop\n",
    "\n"
   ]
  },
  {
   "cell_type": "code",
   "execution_count": 13,
   "metadata": {},
   "outputs": [
    {
     "name": "stdout",
     "output_type": "stream",
     "text": [
      "Time: 0.0; timestep: 0\n"
     ]
    },
    {
     "name": "stderr",
     "output_type": "stream",
     "text": [
      "/opt/tljh/user/envs/ivy/lib/python3.11/site-packages/pyDeltaRCM/init_tools.py:626: UserWarning: Replacing existing netCDF file\n",
      "  warnings.warn(UserWarning(_msg))\n"
     ]
    }
   ],
   "source": [
    "# seems like you need the yaml file\n",
    "delta_veg = VegetationModel(\n",
    "    input_file='./vegetation.yaml',\n",
    "    out_dir='./vegetation_output',\n",
    "    save_checkpoint=True,\n",
    "    save_dt=86400,\n",
    "    clobber_netcdf=True,\n",
    "    vegetation=True,\n",
    "    save_veg_frac_figs = True,\n",
    "    )"
   ]
  },
  {
   "cell_type": "code",
   "execution_count": 19,
   "metadata": {},
   "outputs": [
    {
     "name": "stdout",
     "output_type": "stream",
     "text": [
      "Time: 0.0; timestep: 0\n"
     ]
    }
   ],
   "source": [
    "# turn veg off \n",
    "delta_noveg = VegetationModel(\n",
    "    input_file='./vegetation.yaml',\n",
    "    out_dir='./vegetation_output',\n",
    "    save_checkpoint=True,\n",
    "    save_dt=86400,\n",
    "    clobber_netcdf=True,\n",
    "    vegetation=False\n",
    "    )"
   ]
  },
  {
   "cell_type": "code",
   "execution_count": 15,
   "metadata": {},
   "outputs": [
    {
     "data": {
      "image/png": "[encoded data removed]",
      "text/plain": [
       "<Figure size 640x480 with 2 Axes>"
      ]
     },
     "metadata": {},
     "output_type": "display_data"
    },
    {
     "name": "stdout",
     "output_type": "stream",
     "text": [
      "Time: 6790909.1; timestep: 498\n",
      "Time: 6804545.5; timestep: 499\n",
      "Time: 6818181.8; timestep: 500\n",
      "Time: 6831818.2; timestep: 501\n"
     ]
    }
   ],
   "source": [
    "from IPython.display import clear_output\n",
    "\n",
    "for i in range(500):\n",
    "  delta_veg.update()\n",
    "\n",
    "  if (i % 5) == 0:\n",
    "    clear_output(wait=True)\n",
    "    fig, ax = plt.subplots()\n",
    "    im = ax.imshow(delta_veg.veg_frac)\n",
    "    plt.colorbar(im, ax=ax, shrink=0.6)\n",
    "    ax.set_title(i)\n",
    "    plt.show()\n",
    "\n",
    "delta_veg.finalize()"
   ]
  },
  {
   "cell_type": "code",
   "execution_count": 20,
   "metadata": {},
   "outputs": [
    {
     "data": {
      "image/png": "[encoded data removed]",
      "text/plain": [
       "<Figure size 640x480 with 2 Axes>"
      ]
     },
     "metadata": {},
     "output_type": "display_data"
    },
    {
     "name": "stdout",
     "output_type": "stream",
     "text": [
      "Time: 6777272.7; timestep: 497\n",
      "Time: 6790909.1; timestep: 498\n",
      "Time: 6804545.5; timestep: 499\n",
      "Time: 6818181.8; timestep: 500\n"
     ]
    }
   ],
   "source": [
    "from IPython.display import clear_output\n",
    "\n",
    "for i in range(500):\n",
    "  delta_noveg.update()\n",
    "\n",
    "  if (i % 5) == 0:\n",
    "    clear_output(wait=True)\n",
    "    fig, ax = plt.subplots()\n",
    "    im = ax.imshow(delta_noveg.eta)\n",
    "    plt.colorbar(im, ax=ax, shrink=0.6)\n",
    "    ax.set_title(i)\n",
    "    plt.show()\n",
    "\n",
    "delta_noveg.finalize()"
   ]
  },
  {
   "cell_type": "code",
   "execution_count": 12,
   "metadata": {},
   "outputs": [
    {
     "ename": "AttributeError",
     "evalue": "'VegetationModel' object has no attribute 'vegtation'",
     "output_type": "error",
     "traceback": [
      "\u001b[0;31m---------------------------------------------------------------------------\u001b[0m",
      "\u001b[0;31mAttributeError\u001b[0m                            Traceback (most recent call last)",
      "Cell \u001b[0;32mIn[12], line 1\u001b[0m\n\u001b[0;32m----> 1\u001b[0m \u001b[43mdelta_veg\u001b[49m\u001b[38;5;241;43m.\u001b[39;49m\u001b[43mvegtation\u001b[49m\n",
      "\u001b[0;31mAttributeError\u001b[0m: 'VegetationModel' object has no attribute 'vegtation'"
     ]
    }
   ],
   "source": [
    "delta_veg.vegtation"
   ]
  },
  {
   "cell_type": "code",
   "execution_count": 9,
   "metadata": {},
   "outputs": [
    {
     "data": {
      "text/plain": [
       "{'vegetation': {'type': 'bool', 'default': False},\n",
       " 'save_veg_frac_figs': {'type': 'bool', 'default': False},\n",
       " 'p_veg_d_root': {'type': ['int', 'float'], 'default': 0.2},\n",
       " 'p_veg_d_stem': {'type': ['int', 'float'], 'default': 0.06},\n",
       " 'p_veg_K': {'type': ['int', 'float'], 'default': 800},\n",
       " 'p_veg_r': {'type': ['int', 'float'], 'default': 1},\n",
       " 'p_veg_est_flood_dur': {'type': ['int', 'float'], 'default': 3},\n",
       " 'p_veg_est_inter_dur': {'type': ['int', 'float'], 'default': 100},\n",
       " 'p_veg_est_depth': {'type': ['int', 'float'], 'default': 0.5},\n",
       " 'p_veg_est_roc': {'type': ['int', 'float'], 'default': 0.01},\n",
       " 'p_veg_est_init': {'type': ['int', 'float'], 'default': 0.05}}"
      ]
     },
     "execution_count": 9,
     "metadata": {},
     "output_type": "execute_result"
    }
   ],
   "source": [
    "VM.subclass_parameters"
   ]
  },
  {
   "cell_type": "markdown",
   "metadata": {
    "id": "cQQh1BTIgLIV"
   },
   "source": [
    "Model parameters can also be defined using a YAML configuration file where the user provides a list of model parameters and their values. For more detailed information on how to write and use YAML files to configure *pyDeltaRCM* model runs, check out [the user guide](https://deltarcm.org/pyDeltaRCM/guides/user_guide.html#configuring-an-input-yaml-file)."
   ]
  },
  {
   "cell_type": "code",
   "execution_count": null,
   "metadata": {
    "colab": {
     "base_uri": "https://localhost:8080/",
     "height": 368
    },
    "id": "OaD2CbO6sFYt",
    "outputId": "1dad7919-84bc-4bc7-e162-24d95b5aad55"
   },
   "outputs": [],
   "source": [
    "# now loop for 500 timesteps, and plot every 5th step\n",
    "from IPython.display import clear_output\n",
    "\n",
    "for i in range(500):\n",
    "  delta.update()\n",
    "\n",
    "  if (i % 5) == 0:\n",
    "    clear_output(wait=True)\n",
    "    fig, ax = plt.subplots()\n",
    "    im = ax.imshow(delta.eta)\n",
    "    plt.colorbar(im, ax=ax, shrink=0.6)\n",
    "    ax.set_title(i)\n",
    "    plt.show()\n",
    "\n",
    "delta.finalize()"
   ]
  },
  {
   "cell_type": "markdown",
   "metadata": {
    "id": "bl-awhkQBy1C"
   },
   "source": [
    "#### Reproducible model runs\n",
    "\n",
    "Compare your model result with your neighbors. Are they the same?\n",
    "\n",
    "Should they be the same?\n",
    "\n"
   ]
  },
  {
   "cell_type": "code",
   "execution_count": null,
   "metadata": {
    "colab": {
     "base_uri": "https://localhost:8080/",
     "height": 309
    },
    "id": "Y5bVbneCE30Y",
    "outputId": "bb7390b1-31e2-4d07-9be0-069871351be9"
   },
   "outputs": [],
   "source": [
    "fig, ax = plt.subplots()\n",
    "ax.imshow(delta.eta)\n",
    "\n",
    "ax.annotate(\n",
    "    f'$\\\\eta={delta.eta[10, 20]:.4f}$',\n",
    "    xy=(20, 10), xytext=(10, 7.5),\n",
    "    arrowprops=dict(arrowstyle='-|>',\n",
    "                    connectionstyle='angle3'),\n",
    "    bbox=dict(boxstyle='square', fc=\"w\"))\n",
    "\n",
    "plt.show()"
   ]
  },
  {
   "cell_type": "markdown",
   "metadata": {
    "id": "-HpKSJsfvORU"
   },
   "source": [
    "# Analyzing *pyDeltaRCM* model results"
   ]
  },
  {
   "cell_type": "markdown",
   "metadata": {
    "id": "wuaDrZSBCIUB"
   },
   "source": [
    "*pyDeltaRCM* model outputs are saved to netCDF files. The [netCDF](https://www.unidata.ucar.edu/software/netcdf/) file format is one of several standards for storing scientific data. By saving our model outputs in a standard format, they immediately become interoperable with other scientific software - [QGIS](https://www.qgis.org) for example, can directly read *pyDeltaRCM* output netCDF files.\n",
    "\n",
    "For more specific details about how the *pyDeltaRCM* output file is formatted, check out the [documentation page](https://deltarcm.org/pyDeltaRCM/info/outputfile.html) on this very subject. In the code block below we will show that the netCDF output file exists and holds data about our model run.\n",
    "\n",
    "We will then load and inspect our model output using the `xarray` package which is similar to `numpy` but tracks coordinates and dimensions of data as well (and importantly for us, supports loading of these netCDF files!)"
   ]
  },
  {
   "cell_type": "code",
   "execution_count": null,
   "metadata": {
    "colab": {
     "base_uri": "https://localhost:8080/",
     "height": 322
    },
    "id": "GRsP-n5-CRiA",
    "outputId": "804e1f80-3b4d-4e75-ee45-7d1eabadad10"
   },
   "outputs": [],
   "source": [
    "import os\n",
    "\n",
    "os.path.isfile('./deltaRCM_Output/pyDeltaRCM_output.nc')\n",
    "\n",
    "import xarray as xr\n",
    "\n",
    "ds = xr.load_dataset('./deltaRCM_Output/pyDeltaRCM_output.nc')\n",
    "ds\n"
   ]
  },
  {
   "cell_type": "markdown",
   "metadata": {
    "id": "dNBIa-3tYf8n"
   },
   "source": [
    "We can access a list of the variables which are stored in the netCDF"
   ]
  },
  {
   "cell_type": "code",
   "execution_count": null,
   "metadata": {
    "colab": {
     "base_uri": "https://localhost:8080/"
    },
    "id": "LkH3NGiGYc0N",
    "outputId": "1cbb172d-25dc-4922-f07b-9f104d4c51cb"
   },
   "outputs": [],
   "source": [
    "list(ds.variables)"
   ]
  },
  {
   "cell_type": "markdown",
   "metadata": {
    "id": "yq-tZMyjYk1d"
   },
   "source": [
    "If we inspect one of them, we can see the data type (float32), the dimensions of the variable (time, x, y), as well as its units (meters). We also get information about its shape which is organized the same way as the dimensions."
   ]
  },
  {
   "cell_type": "code",
   "execution_count": null,
   "metadata": {
    "colab": {
     "base_uri": "https://localhost:8080/",
     "height": 928
    },
    "id": "8P--X9kwDG3w",
    "outputId": "4600c005-e15a-47cc-ec17-9312240310db"
   },
   "outputs": [],
   "source": [
    "ds['eta']"
   ]
  },
  {
   "cell_type": "markdown",
   "metadata": {
    "id": "Ky1-wZQbYy2M"
   },
   "source": [
    "Using the netCDF file directly we can plot this variable (the model topography)"
   ]
  },
  {
   "cell_type": "code",
   "execution_count": null,
   "metadata": {
    "colab": {
     "base_uri": "https://localhost:8080/",
     "height": 259
    },
    "id": "Hp_5P34iVIfw",
    "outputId": "6c529ea7-d637-4171-86b7-1ccd25ebccf6"
   },
   "outputs": [],
   "source": [
    "fig, ax = plt.subplots(1, 2, figsize=(18, 8))\n",
    "\n",
    "ax[0].imshow(ds['eta'][0, ...])\n",
    "ax[0].set_title('First Saved Timestep')\n",
    "\n",
    "ax[1].imshow(ds['eta'][-1, ...])\n",
    "ax[1].set_title('Final Saved Timestep')\n",
    "\n",
    "plt.show()"
   ]
  },
  {
   "cell_type": "markdown",
   "metadata": {
    "id": "rz9eh_HnxmXJ"
   },
   "source": [
    "# Load some \"full-size\" results"
   ]
  },
  {
   "cell_type": "markdown",
   "metadata": {
    "id": "i1OAXrgxvY3R"
   },
   "source": [
    "We are going to grab some model outputs generated using different input sediment compositions. In the model, this is accomplished by varying the fraction of input sediment that is \"sand\" (the rest of the sediment is automatically defined as \"mud\").\n",
    "\n",
    "<br>\n",
    "\n",
    "_Warning:_ The next cell might take a minute or two to download the data!"
   ]
  },
  {
   "cell_type": "code",
   "execution_count": null,
   "metadata": {
    "id": "CFNvDIgclVez"
   },
   "outputs": [],
   "source": [
    "%%capture\n",
    "\n",
    "# some pyDeltaRCM model outputs with different input sand fractions\n",
    "!wget 'https://utexas.box.com/s/m5uymt3uy0b9boomuykab8peyefw2igp' -O 'pyDeltaRCM_outputs.tar.xz'\n",
    "!tar -xf pyDeltaRCM_outputs.tar.xz"
   ]
  },
  {
   "cell_type": "markdown",
   "metadata": {
    "id": "6IUMHS4Pdo1L"
   },
   "source": [
    "Now that we've downloaded some pre-run model outputs, we will load them into our notebook. We are going to define a Python \"dictionary\" which will allow us to access the individual model outputs based on the input sand fraction for each.\n",
    "\n",
    "Our dictionary will be called `data`. Model outputs were generated with input sand fraction values of 20, 50, and 80%. So we will be able to access each one using the syntax: `data[sf]` where the variable `sf` is either 20, 50, or 80. By setting up dictionary in this way, we can easily change the model output we are visualizing or analyzing in subsequent cells by changing the value of our variable `sf`."
   ]
  },
  {
   "cell_type": "code",
   "execution_count": null,
   "metadata": {
    "id": "jrYwWw3dWJ5N"
   },
   "outputs": [],
   "source": [
    "import xarray as xr\n",
    "import requests\n",
    "from io import BytesIO\n",
    "\n",
    "data = dict()\n",
    "\n",
    "# direct links to the NetCDF files: these are shared files on box! they will disable May 4 2024\n",
    "box_urls = {\n",
    "    20: 'https://utexas.box.com/shared/static/37fdg2poa4ic6wqw28la7qf008cudjnq.nc',\n",
    "    50: 'https://utexas.box.com/shared/static/gemxkh8ddmf5urfi2anoctn922x1fkl3.nc',\n",
    "    80: 'https://utexas.box.com/shared/static/4iu92zjn4abulg8xq76g3jdhn62d4qqc.nc'\n",
    "}\n",
    "\n",
    "# load datasets\n",
    "for sf, url in box_urls.items():\n",
    "    response = requests.get(url)\n",
    "    if response.status_code == 200:\n",
    "        # load the data into xarray\n",
    "        data[sf] = xr.open_dataset(BytesIO(response.content))\n",
    "    else:\n",
    "        print(f\"Failed to download data for sf {sf}\")"
   ]
  },
  {
   "cell_type": "code",
   "execution_count": null,
   "metadata": {
    "id": "yBwjWjuwv4kq"
   },
   "outputs": [],
   "source": [
    "# pick an output to visualize (options are sf = [20, 50, 80])\n",
    "# remember sf is the percentage of sand in the input sediment\n",
    "sf = 20"
   ]
  },
  {
   "cell_type": "markdown",
   "metadata": {
    "id": "NOpTbRBweX8k"
   },
   "source": [
    "The below cell plots the topography through time for this model run. If you'd rather visualize the water depths, or the x or y components of the water velocity, just change the variable being visualized from `eta` to the one you wish to view."
   ]
  },
  {
   "cell_type": "code",
   "execution_count": null,
   "metadata": {
    "colab": {
     "base_uri": "https://localhost:8080/",
     "height": 281
    },
    "id": "kdQO_Tp-v--X",
    "outputId": "5778f2eb-4cfa-4237-d1e1-9900a55aefab"
   },
   "outputs": [],
   "source": [
    "# now loop through topography data to see model evolution\n",
    "from IPython.display import clear_output\n",
    "\n",
    "for i in range(data[sf]['eta'].shape[0]):\n",
    "  # every 25 outputs\n",
    "  if i % 25 == 0:\n",
    "    clear_output(wait=True)\n",
    "    fig, ax = plt.subplots()\n",
    "    im = ax.imshow(data[sf].eta[i])\n",
    "    plt.colorbar(im, ax=ax, shrink=0.6)\n",
    "    ax.set_title('Sand Fraction: ' + str(sf) + '%, Output #: ' + str(i))\n",
    "    plt.show()"
   ]
  },
  {
   "cell_type": "markdown",
   "metadata": {
    "id": "15ruxM8KxVzd"
   },
   "source": [
    "# Some things to ponder"
   ]
  },
  {
   "cell_type": "markdown",
   "metadata": {
    "id": "Vfo1FR4Jw1sn"
   },
   "source": [
    "Do environmental conditions (input sediment composition, sea level, vegetation, ice, permafrost) appear to influence the growth and evolution of river deltas?\n",
    "\n",
    "<br>\n",
    "\n",
    "Does this reduced-complexity modeling framework seem capable of simulating landscapes that resemble the Wax Lake and Atchafalaya Deltas? What (if anything) does it seem to be missing?"
   ]
  }
 ],
 "metadata": {
  "colab": {
   "collapsed_sections": [
    "GCAdZEkXfUZX"
   ],
   "provenance": []
  },
  "kernelspec": {
   "display_name": "Ivy",
   "language": "python",
   "name": "ivy"
  },
  "language_info": {
   "codemirror_mode": {
    "name": "ipython",
    "version": 3
   },
   "file_extension": ".py",
   "mimetype": "text/x-python",
   "name": "python",
   "nbconvert_exporter": "python",
   "pygments_lexer": "ipython3",
   "version": "3.11.9"
  }
 },
 "nbformat": 4,
 "nbformat_minor": 4
}
