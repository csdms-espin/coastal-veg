{
 "cells": [
  {
   "cell_type": "raw",
   "id": "2896e37d-c882-4f47-8545-1a6613be103e",
   "metadata": {},
   "source": [
    "![Ivy logo](https://raw.githubusercontent.com/csdms/project/main/assets/CSDMS-logo-color-tagline-hor.png)"
   ]
  },
  {
   "cell_type": "code",
   "execution_count": null,
   "id": "f2f404db-5ae2-4be5-9a35-2d5dab94336d",
   "metadata": {},
   "outputs": [],
   "source": []
  },
  {
   "cell_type": "markdown",
   "id": "e040ccc8-5d2a-4466-acfb-f8edc856c9e5",
   "metadata": {},
   "source": [
    "## Overview of PyDeltaRCM"
   ]
  },
  {
   "cell_type": "markdown",
   "id": "4320fb98-1d1d-414d-9e16-42a37c461a32",
   "metadata": {},
   "source": [
    "How does vegetation influence sediment and water transport in deltas? To answer this question, we can use a python package called pyDeltaRCM, a numerical model that tracks deltaic growth and evolution. It can account for natural processes in prograding  coastal deltas such as sediment transport and deposition, channel avulsions, and channel migrations. "
   ]
  },
  {
   "cell_type": "markdown",
   "id": "7d014029-8bf7-4b87-ad59-15addb966cbe",
   "metadata": {},
   "source": [
    "* Model PyDeltaRCM is an open source, 2D depth average morphodynamic model. \n",
    "* Developer: Mariela Perignon (Python version of the Matlab deltaRCM model by Man Liang). \n",
    "* PyDeltaRCM is a parcel-based cellular flux routing and sediment transport model that can simulate the planform evaluation due to sediment movement and vegetation model. It is a  reduced-complexity model (RCM), different from the process-based morphodynamic models based on detailed computational fluid dynamics by employing stochastic parcel-based cellular routing schemes for water and sediment transport. The model requires different parameters and variables as input including topography, flow discharge, bed roughness and produces outputs including depth-averaged flow field, water surface elevation and evolving bed topography. "
   ]
  },
  {
   "cell_type": "markdown",
   "id": "c4a56b73-d963-4dea-b7bd-91e0514ba301",
   "metadata": {},
   "source": [
    "<br>\n",
    "\n",
    "---\n",
    "\n",
    "<br>"
   ]
  },
  {
   "cell_type": "markdown",
   "id": "a5dbfce6-aca1-46b3-98d2-5c3447ce35c7",
   "metadata": {},
   "source": [
    "Next, we need to download the necessary packages"
   ]
  },
  {
   "cell_type": "code",
   "execution_count": 2,
   "id": "b17c212a-a506-4ae1-aadd-8abf640b04da",
   "metadata": {},
   "outputs": [],
   "source": [
    "import numpy as np\n",
    "import matplotlib.pyplot as plt"
   ]
  },
  {
   "cell_type": "markdown",
   "id": "a1c8aa97-2762-448f-a64d-d5fc7bd998d2",
   "metadata": {},
   "source": [
    "Then, we have to import the pyDeltaRCM package"
   ]
  },
  {
   "cell_type": "code",
   "execution_count": 32,
   "id": "04317768-7439-4457-a3d8-60f4aaeec916",
   "metadata": {},
   "outputs": [],
   "source": [
    "import pyDeltaRCM"
   ]
  },
  {
   "cell_type": "markdown",
   "id": "c7ed718e-4242-4146-bf14-38772c62ec67",
   "metadata": {},
   "source": [
    "Now that we have installed and brought PyDeltaRCM into our jupyter environment, we can begin to run a simulation without vegetation present"
   ]
  },
  {
   "cell_type": "markdown",
   "id": "f08492f4-f9bc-465a-8c9f-2bb7d4516c60",
   "metadata": {},
   "source": [
    "<br>\n",
    "\n",
    "---\n",
    "\n",
    "<br>"
   ]
  },
  {
   "cell_type": "markdown",
   "id": "c4af7260-a9ad-4671-85e2-70dae2033fbf",
   "metadata": {},
   "source": [
    "Using this code block, we can run the PyDeltaRCM simulation. We are using default values for every parameter not specified in the parentheses. To see the parameters options, you can use this code"
   ]
  },
  {
   "cell_type": "code",
   "execution_count": 31,
   "id": "48693a32-7e05-4366-b135-4a3a31e662b1",
   "metadata": {},
   "outputs": [
    {
     "data": {
      "text/plain": [
       "pyDeltaRCM.model.DeltaModel"
      ]
     },
     "execution_count": 31,
     "metadata": {},
     "output_type": "execute_result"
    }
   ],
   "source": [
    "pyDeltaRCM.DeltaModel #show parameters"
   ]
  },
  {
   "cell_type": "code",
   "execution_count": 33,
   "id": "a7a3a82a-6d77-41a4-b98c-2d3142ae9b0e",
   "metadata": {},
   "outputs": [],
   "source": [
    "# create a simulated delta model (default values in [brackets])\n",
    "delta = pyDeltaRCM.DeltaModel(\n",
    "    dx=200,                # grid spacing [50 m]\n",
    "    Np_water=200,          # input water parcels [2000]\n",
    "    Np_sed=50,             # input sediment parcels [2000]\n",
    "    C0_percent=0.2,        # input sediment concentation [0.1 %]\n",
    "    save_eta_grids=True,   # save the topography data [False]\n",
    "    save_dt=0,             # save interval of 0 seconds [86400]\n",
    "    clobber_netcdf=True,   # over-write any existing output files [False]\n",
    "    sand_frac_bc=1,         #sand fraction boundary condition\n",
    "    )"
   ]
  },
  {
   "cell_type": "code",
   "execution_count": 34,
   "id": "5f271ada-0751-4600-a0f8-33c1cfd81e9a",
   "metadata": {},
   "outputs": [
    {
     "data": {
      "image/png": "[encoded data removed]",
      "text/plain": [
       "<Figure size 640x480 with 2 Axes>"
      ]
     },
     "metadata": {},
     "output_type": "display_data"
    }
   ],
   "source": [
    "# now loop for 500 timesteps, and plot every 5th step\n",
    "from IPython.display import clear_output\n",
    "\n",
    "for i in range(0, 500):\n",
    "    delta.update()\n",
    "    if (i % 5) == 0:\n",
    "        clear_output(wait=True)\n",
    "        fig, ax = plt.subplots()\n",
    "        im = ax.imshow(delta.eta)\n",
    "        plt.colorbar(im, ax=ax, shrink=0.6)\n",
    "        ax.set_title(i)\n",
    "        plt.show()\n",
    "\n",
    "delta.finalize()"
   ]
  },
  {
   "cell_type": "markdown",
   "id": "c8c1e5f4-50b1-4d07-a361-de62f31fe9af",
   "metadata": {},
   "source": [
    "Cool right? However, there is no vegetation in this model, which is difficult to compare to coastal deltaic marshes such as the Mississippi River delta. Lets add vegetation"
   ]
  },
  {
   "cell_type": "markdown",
   "id": "5773c284-a348-42f6-a3eb-49e254795ee0",
   "metadata": {},
   "source": [
    "We need to import the vegetation package from the repository to use. "
   ]
  },
  {
   "cell_type": "code",
   "execution_count": 35,
   "id": "a35a7a5f-4ed2-4ccb-ad70-5f2cceff18d4",
   "metadata": {},
   "outputs": [],
   "source": [
    "from VegetationModel import VegetationModel"
   ]
  },
  {
   "cell_type": "markdown",
   "id": "ace50006-56f5-4efc-8b19-0c3fed948994",
   "metadata": {},
   "source": [
    "Initiate model using the input file"
   ]
  },
  {
   "cell_type": "code",
   "execution_count": 36,
   "id": "47caad2d-0b4c-4939-adcd-db96df84579e",
   "metadata": {},
   "outputs": [
    {
     "name": "stdout",
     "output_type": "stream",
     "text": [
      "Time: 0.0; timestep: 0\n"
     ]
    }
   ],
   "source": [
    "delta_veg = VegetationModel(\n",
    "    input_file='./vegetation.yaml',\n",
    "    out_dir='./vegetation_output',\n",
    "    save_checkpoint=True,\n",
    "    save_dt=86400,\n",
    "    clobber_netcdf=True,\n",
    "    vegetation=True, #can make false to turn off veg\n",
    "    save_veg_frac_figs = True,\n",
    "    )"
   ]
  },
  {
   "cell_type": "markdown",
   "id": "71533996-d445-44fb-9e89-edd3349821f6",
   "metadata": {},
   "source": [
    "Now, we can "
   ]
  },
  {
   "cell_type": "code",
   "execution_count": 38,
   "id": "80d52406-741e-4aec-89c6-0b324f84851a",
   "metadata": {},
   "outputs": [
    {
     "data": {
      "image/png": "[encoded data removed]",
      "text/plain": [
       "<Figure size 640x480 with 2 Axes>"
      ]
     },
     "metadata": {},
     "output_type": "display_data"
    },
    {
     "name": "stdout",
     "output_type": "stream",
     "text": [
      "Time: 7268181.8; timestep: 533\n",
      "Time: 7281818.2; timestep: 534\n",
      "Time: 7295454.5; timestep: 535\n",
      "Time: 7309090.9; timestep: 536\n"
     ]
    }
   ],
   "source": [
    "for i in range(0, 500):\n",
    "    delta_veg.update()\n",
    "    if (i % 5) == 0:\n",
    "        clear_output(wait=True)\n",
    "        fig, ax = plt.subplots()\n",
    "        im = ax.imshow(delta_veg.eta)\n",
    "        plt.colorbar(im, ax=ax, shrink=0.6)\n",
    "        ax.set_title(i)\n",
    "        plt.show()\n",
    "\n",
    "delta_veg.finalize()"
   ]
  },
  {
   "cell_type": "code",
   "execution_count": null,
   "id": "8fa31bc6-0a06-44a1-acbd-bb9b86d8ad80",
   "metadata": {},
   "outputs": [],
   "source": []
  }
 ],
 "metadata": {
  "kernelspec": {
   "display_name": "Ivy",
   "language": "python",
   "name": "ivy"
  },
  "language_info": {
   "codemirror_mode": {
    "name": "ipython",
    "version": 3
   },
   "file_extension": ".py",
   "mimetype": "text/x-python",
   "name": "python",
   "nbconvert_exporter": "python",
   "pygments_lexer": "ipython3",
   "version": "3.11.9"
  }
 },
 "nbformat": 4,
 "nbformat_minor": 5
}
